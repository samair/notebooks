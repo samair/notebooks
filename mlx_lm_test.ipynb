{
 "cells": [
  {
   "cell_type": "code",
   "id": "initial_id",
   "metadata": {
    "collapsed": true,
    "ExecuteTime": {
     "end_time": "2025-08-08T14:05:29.547556Z",
     "start_time": "2025-08-08T14:05:27.459536Z"
    }
   },
   "source": "!pip install \"mlx[cuda]\"",
   "outputs": [
    {
     "name": "stdout",
     "output_type": "stream",
     "text": [
      "Collecting mlx[cuda]\r\n",
      "  Downloading mlx-0.28.0-cp312-cp312-macosx_14_0_arm64.whl.metadata (5.7 kB)\r\n",
      "Collecting mlx-metal==0.28.0 (from mlx[cuda])\r\n",
      "  Using cached mlx_metal-0.28.0-py3-none-macosx_14_0_arm64.whl.metadata (5.1 kB)\r\n",
      "Downloading mlx-0.28.0-cp312-cp312-macosx_14_0_arm64.whl (540 kB)\r\n",
      "\u001B[2K   \u001B[90m━━━━━━━━━━━━━━━━━━━━━━━━━━━━━━━━━━━━━━━━\u001B[0m \u001B[32m540.1/540.1 kB\u001B[0m \u001B[31m9.4 MB/s\u001B[0m eta \u001B[36m0:00:00\u001B[0m\r\n",
      "\u001B[?25hUsing cached mlx_metal-0.28.0-py3-none-macosx_14_0_arm64.whl (33.2 MB)\r\n",
      "Installing collected packages: mlx-metal, mlx\r\n",
      "\u001B[2K   \u001B[90m━━━━━━━━━━━━━━━━━━━━━━━━━━━━━━━━━━━━━━━━\u001B[0m \u001B[32m2/2\u001B[0m [mlx]\u001B[32m1/2\u001B[0m [mlx]\r\n",
      "\u001B[1A\u001B[2KSuccessfully installed mlx-0.28.0 mlx-metal-0.28.0\r\n",
      "\r\n",
      "\u001B[1m[\u001B[0m\u001B[34;49mnotice\u001B[0m\u001B[1;39;49m]\u001B[0m\u001B[39;49m A new release of pip is available: \u001B[0m\u001B[31;49m25.1.1\u001B[0m\u001B[39;49m -> \u001B[0m\u001B[32;49m25.2\u001B[0m\r\n",
      "\u001B[1m[\u001B[0m\u001B[34;49mnotice\u001B[0m\u001B[1;39;49m]\u001B[0m\u001B[39;49m To update, run: \u001B[0m\u001B[32;49mpip install --upgrade pip\u001B[0m\r\n"
     ]
    }
   ],
   "execution_count": 1
  },
  {
   "metadata": {
    "ExecuteTime": {
     "end_time": "2025-08-13T04:47:56.324037Z",
     "start_time": "2025-08-13T04:47:55.720736Z"
    }
   },
   "cell_type": "code",
   "source": "!pip install mlx-lm",
   "id": "cefba48a14a8aaf3",
   "outputs": [
    {
     "name": "stdout",
     "output_type": "stream",
     "text": [
      "Requirement already satisfied: mlx-lm in /Users/sameerchandra/PycharmProjects/multi-modal-researcher/.venv/lib/python3.12/site-packages (0.26.3)\r\n",
      "Requirement already satisfied: mlx>=0.26.0 in /Users/sameerchandra/PycharmProjects/multi-modal-researcher/.venv/lib/python3.12/site-packages (from mlx-lm) (0.28.0)\r\n",
      "Requirement already satisfied: numpy in /Users/sameerchandra/PycharmProjects/multi-modal-researcher/.venv/lib/python3.12/site-packages (from mlx-lm) (2.2.6)\r\n",
      "Requirement already satisfied: transformers>=4.39.3 in /Users/sameerchandra/PycharmProjects/multi-modal-researcher/.venv/lib/python3.12/site-packages (from mlx-lm) (4.53.3)\r\n",
      "Requirement already satisfied: protobuf in /Users/sameerchandra/PycharmProjects/multi-modal-researcher/.venv/lib/python3.12/site-packages (from mlx-lm) (6.31.1)\r\n",
      "Requirement already satisfied: pyyaml in /Users/sameerchandra/PycharmProjects/multi-modal-researcher/.venv/lib/python3.12/site-packages (from mlx-lm) (6.0.2)\r\n",
      "Requirement already satisfied: jinja2 in /Users/sameerchandra/PycharmProjects/multi-modal-researcher/.venv/lib/python3.12/site-packages (from mlx-lm) (3.1.6)\r\n",
      "Requirement already satisfied: mlx-metal==0.28.0 in /Users/sameerchandra/PycharmProjects/multi-modal-researcher/.venv/lib/python3.12/site-packages (from mlx>=0.26.0->mlx-lm) (0.28.0)\r\n",
      "Requirement already satisfied: filelock in /Users/sameerchandra/PycharmProjects/multi-modal-researcher/.venv/lib/python3.12/site-packages (from transformers>=4.39.3->mlx-lm) (3.18.0)\r\n",
      "Requirement already satisfied: huggingface-hub<1.0,>=0.30.0 in /Users/sameerchandra/PycharmProjects/multi-modal-researcher/.venv/lib/python3.12/site-packages (from transformers>=4.39.3->mlx-lm) (0.34.4)\r\n",
      "Requirement already satisfied: packaging>=20.0 in /Users/sameerchandra/PycharmProjects/multi-modal-researcher/.venv/lib/python3.12/site-packages (from transformers>=4.39.3->mlx-lm) (25.0)\r\n",
      "Requirement already satisfied: regex!=2019.12.17 in /Users/sameerchandra/PycharmProjects/multi-modal-researcher/.venv/lib/python3.12/site-packages (from transformers>=4.39.3->mlx-lm) (2024.11.6)\r\n",
      "Requirement already satisfied: requests in /Users/sameerchandra/PycharmProjects/multi-modal-researcher/.venv/lib/python3.12/site-packages (from transformers>=4.39.3->mlx-lm) (2.32.4)\r\n",
      "Requirement already satisfied: tokenizers<0.22,>=0.21 in /Users/sameerchandra/PycharmProjects/multi-modal-researcher/.venv/lib/python3.12/site-packages (from transformers>=4.39.3->mlx-lm) (0.21.4)\r\n",
      "Requirement already satisfied: safetensors>=0.4.3 in /Users/sameerchandra/PycharmProjects/multi-modal-researcher/.venv/lib/python3.12/site-packages (from transformers>=4.39.3->mlx-lm) (0.6.2)\r\n",
      "Requirement already satisfied: tqdm>=4.27 in /Users/sameerchandra/PycharmProjects/multi-modal-researcher/.venv/lib/python3.12/site-packages (from transformers>=4.39.3->mlx-lm) (4.67.1)\r\n",
      "Requirement already satisfied: fsspec>=2023.5.0 in /Users/sameerchandra/PycharmProjects/multi-modal-researcher/.venv/lib/python3.12/site-packages (from huggingface-hub<1.0,>=0.30.0->transformers>=4.39.3->mlx-lm) (2025.3.0)\r\n",
      "Requirement already satisfied: typing-extensions>=3.7.4.3 in /Users/sameerchandra/PycharmProjects/multi-modal-researcher/.venv/lib/python3.12/site-packages (from huggingface-hub<1.0,>=0.30.0->transformers>=4.39.3->mlx-lm) (4.14.1)\r\n",
      "Requirement already satisfied: hf-xet<2.0.0,>=1.1.3 in /Users/sameerchandra/PycharmProjects/multi-modal-researcher/.venv/lib/python3.12/site-packages (from huggingface-hub<1.0,>=0.30.0->transformers>=4.39.3->mlx-lm) (1.1.7)\r\n",
      "Requirement already satisfied: MarkupSafe>=2.0 in /Users/sameerchandra/PycharmProjects/multi-modal-researcher/.venv/lib/python3.12/site-packages (from jinja2->mlx-lm) (3.0.2)\r\n",
      "Requirement already satisfied: charset_normalizer<4,>=2 in /Users/sameerchandra/PycharmProjects/multi-modal-researcher/.venv/lib/python3.12/site-packages (from requests->transformers>=4.39.3->mlx-lm) (3.4.2)\r\n",
      "Requirement already satisfied: idna<4,>=2.5 in /Users/sameerchandra/PycharmProjects/multi-modal-researcher/.venv/lib/python3.12/site-packages (from requests->transformers>=4.39.3->mlx-lm) (3.10)\r\n",
      "Requirement already satisfied: urllib3<3,>=1.21.1 in /Users/sameerchandra/PycharmProjects/multi-modal-researcher/.venv/lib/python3.12/site-packages (from requests->transformers>=4.39.3->mlx-lm) (2.5.0)\r\n",
      "Requirement already satisfied: certifi>=2017.4.17 in /Users/sameerchandra/PycharmProjects/multi-modal-researcher/.venv/lib/python3.12/site-packages (from requests->transformers>=4.39.3->mlx-lm) (2025.7.9)\r\n",
      "\r\n",
      "\u001B[1m[\u001B[0m\u001B[34;49mnotice\u001B[0m\u001B[1;39;49m]\u001B[0m\u001B[39;49m A new release of pip is available: \u001B[0m\u001B[31;49m25.1.1\u001B[0m\u001B[39;49m -> \u001B[0m\u001B[32;49m25.2\u001B[0m\r\n",
      "\u001B[1m[\u001B[0m\u001B[34;49mnotice\u001B[0m\u001B[1;39;49m]\u001B[0m\u001B[39;49m To update, run: \u001B[0m\u001B[32;49mpip install --upgrade pip\u001B[0m\r\n"
     ]
    }
   ],
   "execution_count": 29
  },
  {
   "metadata": {
    "ExecuteTime": {
     "end_time": "2025-08-08T14:06:27.009018Z",
     "start_time": "2025-08-08T14:06:26.039720Z"
    }
   },
   "cell_type": "code",
   "source": "!pip install sentencepiece",
   "id": "dc2cdf632668acf5",
   "outputs": [
    {
     "name": "stdout",
     "output_type": "stream",
     "text": [
      "Collecting sentencepiece\r\n",
      "  Downloading sentencepiece-0.2.0-cp312-cp312-macosx_11_0_arm64.whl.metadata (7.7 kB)\r\n",
      "Downloading sentencepiece-0.2.0-cp312-cp312-macosx_11_0_arm64.whl (1.2 MB)\r\n",
      "\u001B[2K   \u001B[90m━━━━━━━━━━━━━━━━━━━━━━━━━━━━━━━━━━━━━━━━\u001B[0m \u001B[32m1.2/1.2 MB\u001B[0m \u001B[31m10.2 MB/s\u001B[0m eta \u001B[36m0:00:00\u001B[0m\r\n",
      "\u001B[?25hInstalling collected packages: sentencepiece\r\n",
      "Successfully installed sentencepiece-0.2.0\r\n",
      "\r\n",
      "\u001B[1m[\u001B[0m\u001B[34;49mnotice\u001B[0m\u001B[1;39;49m]\u001B[0m\u001B[39;49m A new release of pip is available: \u001B[0m\u001B[31;49m25.1.1\u001B[0m\u001B[39;49m -> \u001B[0m\u001B[32;49m25.2\u001B[0m\r\n",
      "\u001B[1m[\u001B[0m\u001B[34;49mnotice\u001B[0m\u001B[1;39;49m]\u001B[0m\u001B[39;49m To update, run: \u001B[0m\u001B[32;49mpip install --upgrade pip\u001B[0m\r\n"
     ]
    }
   ],
   "execution_count": 4
  },
  {
   "metadata": {
    "ExecuteTime": {
     "end_time": "2025-08-13T04:47:55.710178Z",
     "start_time": "2025-08-13T04:47:45.124856Z"
    }
   },
   "cell_type": "code",
   "source": "!python3 -m mlx_lm generate --max-tokens=1000 --model mlx-community/Mistral-7B-Instruct-v0.3-4bit   --prompt \"Can you read PDF?\"",
   "id": "aa1760f5e95e99bd",
   "outputs": [
    {
     "name": "stdout",
     "output_type": "stream",
     "text": [
      "Fetching 7 files: 100%|████████████████████████| 7/7 [00:00<00:00, 43755.78it/s]\r\n",
      "==========\r\n",
      "I, as a text-based AI model, do not have the ability to directly read or process PDF files. However, I can help you convert PDF files to text format, which I can then analyze or read. There are various tools and services available online for this purpose, such as Adobe Acrobat, Google Drive, or online converters like Smallpdf or Zamzar. Once the PDF is converted to text, I can interact with the text data.\r\n",
      "==========\r\n",
      "Prompt: 10 tokens, 19.752 tokens-per-sec\r\n",
      "Generation: 97 tokens, 21.199 tokens-per-sec\r\n",
      "Peak memory: 4.135 GB\r\n"
     ]
    }
   ],
   "execution_count": 28
  },
  {
   "metadata": {
    "ExecuteTime": {
     "end_time": "2025-08-23T05:16:25.083422Z",
     "start_time": "2025-08-23T05:16:08.094618Z"
    }
   },
   "cell_type": "code",
   "source": "!python3 -m mlx_lm generate --max-tokens=400 --model mlx-community/gemma-3-4b-it-4bit --adapter-path ./adapters/HumanLike --prompt \"Can you help me understand concept of gravity?\"",
   "id": "7a247e2dbbebfdc5",
   "outputs": [
    {
     "name": "stdout",
     "output_type": "stream",
     "text": [
      "Fetching 12 files: 100%|████████████████████| 12/12 [00:00<00:00, 127421.89it/s]\r\n",
      "==========\r\n",
      "You bet! Gravity is one of the most fundamental forces in the universe, and it's also one of the most mysterious. Let's break it down into smaller pieces.\r\n",
      "\r\n",
      "**1. What is Gravity?**\r\n",
      "\r\n",
      "At its simplest, gravity is the force that pulls objects with mass together. It's what keeps us on the ground, what makes apples fall from trees, and what holds planets in orbit around stars.\r\n",
      "\r\n",
      "**2. How does it work?**\r\n",
      "\r\n",
      "* **Newton's Law of Universal Gravitation:** This is the classic formula that describes how gravity works. It states that the force of gravity between two objects is:\r\n",
      "   *  F = G * (m1 * m2) / r²\r\n",
      "   *  Where:\r\n",
      "      *  F = Force of gravity\r\n",
      "      *  G = Gravitational constant (a number)\r\n",
      "      *  m1 and m2 = Mass of the two objects\r\n",
      "      *  r = Distance between the centers of the two objects\r\n",
      "\r\n",
      "   This formula shows that the force of gravity is:\r\n",
      "      *  Directly proportional to the masses of the objects involved (bigger objects, bigger force).\r\n",
      "      *  Inversely proportional to the square of the distance between them (double the distance, the force becomes one-fourth as strong).\r\n",
      "\r\n",
      "* **Einstein's Theory of General Relativity:** This is where things get really interesting. Einstein realized that gravity isn't just a force, but a consequence of how space and time are warped by mass and energy. Imagine space and time as a giant trampoline. If you put a bowling ball in the middle, it creates a dip, right? If you roll a marble across the trampoline, it will curve around the bowling ball. That's what happens with gravity! Planets orbit stars not because they're being pulled by a force, but because they're following the curves in space-time created by the star's mass.\r\n",
      "==========\r\n",
      "Prompt: 18 tokens, 52.279 tokens-per-sec\r\n",
      "Generation: 400 tokens, 35.998 tokens-per-sec\r\n",
      "Peak memory: 2.663 GB\r\n"
     ]
    }
   ],
   "execution_count": 37
  },
  {
   "metadata": {
    "ExecuteTime": {
     "end_time": "2025-08-23T05:16:58.938454Z",
     "start_time": "2025-08-23T05:16:39.364993Z"
    }
   },
   "cell_type": "code",
   "source": "!python3 -m mlx_lm generate --max-tokens=500 --model mlx-community/gemma-3-4b-it-4bit   --prompt \"Can you help me understand concept of gravity?\"",
   "id": "1f5be577980b4faa",
   "outputs": [
    {
     "name": "stdout",
     "output_type": "stream",
     "text": [
      "Fetching 12 files: 100%|████████████████████| 12/12 [00:00<00:00, 129055.51it/s]\r\n",
      "==========\r\n",
      "Okay, let's break down the concept of gravity. It's a surprisingly complex topic, and we've come a *long* way in understanding it! Here's a breakdown, starting with the basics and moving into more advanced ideas:\r\n",
      "\r\n",
      "**1. The Simple, Everyday Understanding (Newton's Gravity)**\r\n",
      "\r\n",
      "* **What it is:**  At its most basic, gravity is the force that pulls objects with mass towards each other.\r\n",
      "* **How it works (Newton's Law of Universal Gravitation):** Isaac Newton figured this out in the 17th century. His law states:\r\n",
      "   * **The force of gravity between two objects is:**\r\n",
      "      * Directly proportional to the *product* of their masses. (More massive objects pull harder)\r\n",
      "      * Inversely proportional to the *square* of the distance between them. (The farther apart they are, the weaker the pull)\r\n",
      "   * **Formula:** F = G * (m1 * m2) / r²\r\n",
      "      * F = Force of gravity\r\n",
      "      * G = Gravitational constant (a number)\r\n",
      "      * m1 & m2 = Mass of the two objects\r\n",
      "      * r = Distance between the centers of the two objects\r\n",
      "\r\n",
      "* **Example:** You drop a ball, it falls to the ground. The Earth's massive gravity pulls it down. The Moon orbits Earth because Earth's gravity is pulling it in, but the Moon is also moving forward fast enough that it keeps missing Earth.\r\n",
      "\r\n",
      "\r\n",
      "**2. Problems with Newton's Theory (and the Need for Einstein)**\r\n",
      "\r\n",
      "Newton's theory worked *great* for predicting things like planetary orbits and the trajectory of projectiles. However, it had some problems:\r\n",
      "\r\n",
      "* **It didn't explain *why* gravity existed.** It just described *how* it worked.  It didn't explain what caused the force.\r\n",
      "* **It didn't work well with very strong gravitational fields** (like near a black hole).\r\n",
      "* **It didn't fit with the theory of relativity.**\r\n",
      "\r\n",
      "**3. Einstein's Theory of General Relativity (A Revolution)**\r\n",
      "\r\n",
      "* **The Big Idea:** Albert Einstein revolutionized our understanding of gravity with his theory of General Relativity, published in 1915.  Instead of thinking of gravity as a *force*, he described it as a *curvature of spacetime*.\r\n",
      "\r\n",
      "* **Spacetime:** Imagine\r\n",
      "==========\r\n",
      "Prompt: 18 tokens, 50.748 tokens-per-sec\r\n",
      "Generation: 500 tokens, 35.546 tokens-per-sec\r\n",
      "Peak memory: 2.665 GB\r\n"
     ]
    }
   ],
   "execution_count": 38
  },
  {
   "metadata": {
    "ExecuteTime": {
     "end_time": "2025-08-22T16:20:26.481588Z",
     "start_time": "2025-08-22T16:19:58.758551Z"
    }
   },
   "cell_type": "code",
   "source": "!python3 -m mlx_lm server --model mlx-community/Mistral-7B-Instruct-v0.3-4bit --port 5432",
   "id": "3c7ed5cd51180d1b",
   "outputs": [
    {
     "name": "stdout",
     "output_type": "stream",
     "text": [
      "Fetching 7 files: 100%|███████████████████████| 7/7 [00:00<00:00, 101241.82it/s]\r\n",
      "/Users/sameerchandra/PycharmProjects/multi-modal-researcher/.venv/lib/python3.12/site-packages/mlx_lm/server.py:957: UserWarning: mlx_lm.server is not recommended for production as it only implements basic security checks.\r\n",
      "  warnings.warn(\r\n",
      "2025-08-22 21:50:04,192 - INFO - Starting httpd at 127.0.0.1 on port 5432...\r\n",
      "^C\r\n",
      "Traceback (most recent call last):\r\n",
      "  File \"<frozen runpy>\", line 198, in _run_module_as_main\r\n",
      "  File \"<frozen runpy>\", line 88, in _run_code\r\n",
      "  File \"/Users/sameerchandra/PycharmProjects/multi-modal-researcher/.venv/lib/python3.12/site-packages/mlx_lm/__main__.py\", line 29, in <module>\r\n",
      "    submodule.main()\r\n",
      "  File \"/Users/sameerchandra/PycharmProjects/multi-modal-researcher/.venv/lib/python3.12/site-packages/mlx_lm/server.py\", line 1067, in main\r\n",
      "    run(args.host, args.port, ModelProvider(args))\r\n",
      "  File \"/Users/sameerchandra/PycharmProjects/multi-modal-researcher/.venv/lib/python3.12/site-packages/mlx_lm/server.py\", line 962, in run\r\n",
      "    httpd.serve_forever()\r\n",
      "  File \"/Library/Frameworks/Python.framework/Versions/3.12/lib/python3.12/socketserver.py\", line 235, in serve_forever\r\n",
      "    ready = selector.select(poll_interval)\r\n",
      "            ^^^^^^^^^^^^^^^^^^^^^^^^^^^^^^\r\n",
      "  File \"/Library/Frameworks/Python.framework/Versions/3.12/lib/python3.12/selectors.py\", line 415, in select\r\n",
      "    fd_event_list = self._selector.poll(timeout)\r\n",
      "                    ^^^^^^^^^^^^^^^^^^^^^^^^^^^^\r\n",
      "KeyboardInterrupt\r\n"
     ]
    }
   ],
   "execution_count": 1
  }
 ],
 "metadata": {
  "kernelspec": {
   "display_name": "Python 3",
   "language": "python",
   "name": "python3"
  },
  "language_info": {
   "codemirror_mode": {
    "name": "ipython",
    "version": 2
   },
   "file_extension": ".py",
   "mimetype": "text/x-python",
   "name": "python",
   "nbconvert_exporter": "python",
   "pygments_lexer": "ipython2",
   "version": "2.7.6"
  }
 },
 "nbformat": 4,
 "nbformat_minor": 5
}
